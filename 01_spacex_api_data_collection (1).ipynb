{
 "cells": [
  {
   "cell_type": "code",
   "execution_count": 2,
   "id": "4857d779-a783-4b15-9b76-29c4e1adbbf7",
   "metadata": {},
   "outputs": [
    {
     "name": "stdout",
     "output_type": "stream",
     "text": [
      "Requirement already satisfied: pandas in /home/jeza/anaconda3/lib/python3.12/site-packages (2.2.2)\n",
      "Requirement already satisfied: requests in /home/jeza/anaconda3/lib/python3.12/site-packages (2.32.3)\n",
      "Requirement already satisfied: matplotlib in /home/jeza/anaconda3/lib/python3.12/site-packages (3.9.2)\n",
      "Requirement already satisfied: seaborn in /home/jeza/anaconda3/lib/python3.12/site-packages (0.13.2)\n",
      "Requirement already satisfied: beautifulsoup4 in /home/jeza/anaconda3/lib/python3.12/site-packages (4.12.3)\n",
      "Requirement already satisfied: folium in /home/jeza/anaconda3/lib/python3.12/site-packages (0.19.4)\n",
      "Requirement already satisfied: plotly in /home/jeza/anaconda3/lib/python3.12/site-packages (5.22.0)\n",
      "Collecting dash\n",
      "  Using cached dash-3.2.0-py3-none-any.whl.metadata (10 kB)\n",
      "Requirement already satisfied: scikit-learn in /home/jeza/anaconda3/lib/python3.12/site-packages (1.4.2)\n",
      "\u001b[31mERROR: Could not find a version that satisfies the requirement sqlite3 (from versions: none)\u001b[0m\u001b[31m\n",
      "\u001b[0m\u001b[31mERROR: No matching distribution found for sqlite3\u001b[0m\u001b[31m\n",
      "\u001b[0mNote: you may need to restart the kernel to use updated packages.\n"
     ]
    }
   ],
   "source": [
    "# SpaceX Data Collection via REST API\n",
    "\n",
    "This notebook retrieves historical launch data from the public SpaceX REST API  \n",
    "and prepares a raw dataset for downstream wrangling and analysis.\n",
    "\n",
    "**Outputs**: `spacex_api_raw.csv`"
   ]
  },
  {
   "cell_type": "code",
   "execution_count": null,
   "id": "8f2d8503-c4cc-4210-ae96-88b542530e3e",
   "metadata": {},
   "outputs": [],
   "source": [
    "import requests, pandas as pd, numpy as np\n",
    "\n",
    "# Helper function to fetch data\n",
    "def fetch_collection(url):\n",
    "    r = requests.get(url, timeout=60)\n",
    "    r.raise_for_status()\n",
    "    return r.json()\n",
    "\n",
    "# Endpoints (SpaceX v4 API)\n",
    "LAUNCHES_URL = \"https://api.spacexdata.com/v4/launches\"\n",
    "ROCKETS_URL  = \"https://api.spacexdata.com/v4/rockets\"\n",
    "PADS_URL     = \"https://api.spacexdata.com/v4/launchpads\"\n",
    "PAYLOADS_URL = \"https://api.spacexdata.com/v4/payloads\"\n",
    "\n",
    "launches  = fetch_collection(LAUNCHES_URL)\n",
    "rockets   = {d[\"id\"]: d for d in fetch_collection(ROCKETS_URL)}\n",
    "pads      = {d[\"id\"]: d for d in fetch_collection(PADS_URL)}\n",
    "payloads  = {d[\"id\"]: d for d in fetch_collection(PAYLOADS_URL)}\n",
    "\n",
    "len(launches), len(rockets), len(pads), len(payloads)\n"
   ]
  },
  {
   "cell_type": "code",
   "execution_count": null,
   "id": "be029c03-eda8-4263-8382-0e630ac9aa21",
   "metadata": {},
   "outputs": [],
   "source": [
    "# Normalize launches into a DataFrame\n",
    "rows = []\n",
    "for L in launches:\n",
    "    if not L.get(\"date_utc\"):\n",
    "        continue\n",
    "    date = pd.to_datetime(L[\"date_utc\"], errors=\"coerce\")\n",
    "    rocket = rockets.get(L.get(\"rocket\"), {})\n",
    "    pad    = pads.get(L.get(\"launchpad\"), {})\n",
    "    site   = pad.get(\"name\")\n",
    "    \n",
    "    payload_ids = L.get(\"payloads\") or []\n",
    "    payload_masses = [payloads[pid].get(\"mass_kg\") for pid in payload_ids if payloads.get(pid)]\n",
    "    payload_mass = float(np.nansum(payload_masses)) if payload_masses else None\n",
    "    \n",
    "    landing_outcome = None\n",
    "    cls = 0\n",
    "    if L.get(\"cores\"):\n",
    "        c0 = L[\"cores\"][0]\n",
    "        if c0.get(\"landing_attempt\"):\n",
    "            if c0.get(\"landing_success\"):\n",
    "                landing_outcome = f\"Success ({c0.get('landing_type')})\"\n",
    "                cls = 1\n",
    "            else:\n",
    "                landing_outcome = f\"Failure ({c0.get('landing_type')})\"\n",
    "        else:\n",
    "            landing_outcome = \"No attempt\"\n",
    "\n",
    "    rows.append({\n",
    "        \"FlightNumber\": L.get(\"flight_number\"),\n",
    "        \"DateUTC\": date,\n",
    "        \"BoosterVersion\": rocket.get(\"name\"),\n",
    "        \"PayloadMass\": payload_mass,\n",
    "        \"Orbit\": payloads[payload_ids[0]].get(\"orbit\") if payload_ids else None,\n",
    "        \"Site\": site,\n",
    "        \"LandingOutcome\": landing_outcome,\n",
    "        \"Class\": cls\n",
    "    })\n",
    "\n",
    "df_api = pd.DataFrame(rows).sort_values(\"DateUTC\").reset_index(drop=True)\n",
    "df_api.head()\n"
   ]
  },
  {
   "cell_type": "code",
   "execution_count": null,
   "id": "568ffa43-b76c-4f49-9e1d-b93bb769a1b4",
   "metadata": {},
   "outputs": [],
   "source": [
    "# Save to CSV\n",
    "df_api.to_csv(\"spacex_api_raw.csv\", index=False)\n",
    "print(f\"Saved {len(df_api)} rows to spacex_api_raw.csv\")\n"
   ]
  }
 ],
 "metadata": {
  "kernelspec": {
   "display_name": "Python 3 (ipykernel)",
   "language": "python",
   "name": "python3"
  },
  "language_info": {
   "codemirror_mode": {
    "name": "ipython",
    "version": 3
   },
   "file_extension": ".py",
   "mimetype": "text/x-python",
   "name": "python",
   "nbconvert_exporter": "python",
   "pygments_lexer": "ipython3",
   "version": "3.12.4"
  }
 },
 "nbformat": 4,
 "nbformat_minor": 5
}
